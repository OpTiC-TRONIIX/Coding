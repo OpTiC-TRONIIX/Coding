{
 "cells": [
  {
   "cell_type": "markdown",
   "metadata": {},
   "source": [
    "Amaan Hassanali\n",
    "PIC 16A\n",
    "Homework 1\n",
    "10/10/2020\n",
    "\n",
    "I affirm that I personally wrote the text, code, and comments in this homework assignment."
   ]
  },
  {
   "cell_type": "markdown",
   "metadata": {},
   "source": [
    "# Homework 1\n",
    "\n",
    "This homework focuses on topics related to basic data types, collections, and iterations. For each problem, place your solution below the **Solution** headers. Refer to [Expectations for Assignments](https://nbviewer.jupyter.org/github/PhilChodrow/PIC16A/blob/master/content/preliminaries/expectations_for_assignments.ipynb) for instructions on submitting this assignment. For this assignment, it is not necessary to write docstrings for any of your code, but you should include comments and descriptions of your general approach. \n",
    "\n",
    "## Problem 1\n",
    "\n",
    "Write code which, given a list `L`, produces a dictionary `D` where: \n",
    "\n",
    "- The *keys* of `D` are the unique elements of `L` (i.e. each element of `L` appears only once). \n",
    "- The value `D[i]` is the number of times that `i` appears in list `L`. \n",
    "\n",
    "Demonstrate that your code works for lists of strings, lists of integers, and lists containing both strings and integers. (it's fine to copy and paste your code for this, although if you happen to know how to define functions then you might find that more efficient). \n",
    "\n",
    "For example: \n",
    "\n",
    "```python\n",
    "L = [\"a\", \"a\", \"b\", \"c\"]\n",
    "# your code here\n",
    "# ...\n",
    "D\n",
    "# output\n",
    "{\"a\" : 2, \"b\" : 1, \"c\" : 1}\n",
    "```"
   ]
  },
  {
   "cell_type": "markdown",
   "metadata": {},
   "source": [
    "## Solution"
   ]
  },
  {
   "cell_type": "markdown",
   "metadata": {},
   "source": [
    "In Problem 1 below, I thought a function is more appropriate since it allows the entry of various inputs and prevent the rewriting of previous code for a different input. To tackle the problem of identifying unique elements, I rememebered that sets, unlike tuples and lists, contains unique elements, which led me to convert the original list to a set. Then, since sets cannot be accessed like lists, I decided to convert the resulting set into a list with unique elements. To make the dictionary, I used a for-loop and built said dictionary incrementally. Now came the issue of finding the amount of times a given element appeared in the list. Luckily, after some research, I found out that a \".count\" command exists that counts the number of repetitions of a given element in a list, and so I used it to count the number of times the ith element appeared. After, realizing that lists with integers as opposed to strings creates issues, I went back to after my list-set-list conversions, and converted each element in the original and new list from their current type to strings."
   ]
  },
  {
   "cell_type": "code",
   "execution_count": 26,
   "metadata": {},
   "outputs": [
    {
     "name": "stdout",
     "output_type": "stream",
     "text": [
      "{'a': 2, 'and some big string': 1, 'b': 1, 'c': 1}\n",
      "{'1': 1, '2': 2, '3': 1, '4': 3, '5': 1}\n",
      "{'0': 1, '1': 2, '6': 1, 'a': 2, 'c': 2, 'i': 2, 'is better': 1, 'p': 2, 'than': 1}\n"
     ]
    }
   ],
   "source": [
    "#Problem 1\n",
    "#The lists below are used as trial examples per the probem specifications\n",
    "L1 = [\"a\", \"a\", \"b\", \"c\", \"and some big string\"]\n",
    "L2 = [1, 2, 2, 3, 4, 4, 4, 5]\n",
    "L3 = [\"p\", \"i\", \"c\", 1, 6, \"a\", \"is better\", \"than\", \"p\", \"i\", \"c\", 1, 0, \"a\"]\n",
    "\n",
    "#Creating a function\n",
    "def my_function(L):\n",
    "    \"\"\"\n",
    "    Takes a list, L as an input parameter.\n",
    "    Converts list to set and resulting set back to a new list.\n",
    "    Uses for loops to convert the elements of the original and new list into strings.\n",
    "    Sorts the new list.\n",
    "    Builds the required dictionary.\n",
    "    \"\"\"\n",
    "    D = {}\n",
    "    M = set(L) #Converting list to set to identify unique elements\n",
    "    N = list(M) #Converting set to another list containing only unique elements\n",
    "    \n",
    "    #Converting the elements of L and N respectively to strings\n",
    "    for i in range (len(L)):\n",
    "        L[i] = str(L[i])\n",
    "    for j in range (len(N)):\n",
    "        N[j] = str(N[j])\n",
    "    N.sort()\n",
    "    #Building dictionary using for loop and assigning necessary keys and values\n",
    "    for k in range(len(N)):\n",
    "        element = N[k]\n",
    "        D[N[k]] = L.count(element) #The .count command enables counting of a certain element in the list\n",
    "    return D\n",
    "    \n",
    "#Testing the functions\n",
    "print(my_function(L1)) #Dictionary from list of strings\n",
    "print(my_function(L2)) #Dictionary from list of integers\n",
    "print(my_function(L3)) #Dictionary from list of strings and integers"
   ]
  },
  {
   "cell_type": "markdown",
   "metadata": {},
   "source": [
    "# Problem 2\n",
    "\n",
    "The `input()` function allows you to accept typed input from a user as a string. For example, \n",
    "\n",
    "```python\n",
    "x = input(\"Please input a number.\")\n",
    "# user types 7\n",
    "x\n",
    "# output \n",
    "'7'\n",
    "```\n",
    "\n",
    "Write code that prompts a user to input an odd `int`. If the user inputs an even `int`, the code should re-prompt them for an odd integer. After the user has entered an odd integer, the code should print a list of all numbers that the user input. \n",
    "\n",
    "The code `int(\"1\")` will convert strings composed of numerals into integers. You may assume that the user will only input such strings. \n",
    "\n",
    "*Hint*: Try `while` and associated tools. \n",
    "\n",
    "### Example\n",
    "\n",
    "```python\n",
    "\n",
    "# your code\n",
    "\n",
    "> Please enter an integer.6\n",
    "> Please enter an integer.8\n",
    "> Please enter an integer.4\n",
    "> Please enter an integer.9\n",
    "> [6, 8, 4, 9]\n",
    "\n",
    "```\n",
    "\n",
    "## Solution"
   ]
  },
  {
   "cell_type": "markdown",
   "metadata": {},
   "source": [
    "Below, I did problem 2. This problem was fairly straightforward and didn't require much planning. From the sample code above, it appeared that I needed a variable and a list, so I defined an integer with value 0 and an empty list. I used a while loop to check the condition that the integer was even. \"Why a while loop?\" you ask; a for loop requires knowing the number of iterations whereas in this case, that number was unknown. Thus, a while loop was preferred. In fact, because I used a while loop, I had to pre-define the variable as 0, so that the condition that it was even was satisfied before the first increment of the loop. Within the loop, the initially defined variable was then reinitialized based on user input. Then, the integer inputted by the user was appended and hence, stored in the list. Finally, the list was printed."
   ]
  },
  {
   "cell_type": "code",
   "execution_count": 28,
   "metadata": {},
   "outputs": [
    {
     "name": "stdout",
     "output_type": "stream",
     "text": [
      "Please enter an odd integer:6\n",
      "Please enter an odd integer:8\n",
      "Please enter an odd integer:4\n",
      "Please enter an odd integer:9\n",
      "[6, 8, 4, 9]\n"
     ]
    }
   ],
   "source": [
    "#Problem 2\n",
    "intnum = 0\n",
    "List = []\n",
    "#While loop to check if the integer is odd and to keep promping until and even integer is inputted\n",
    "while intnum % 2 == 0:\n",
    "    intnum = int(input(\"Please enter an odd integer:\"))\n",
    "    List.append(intnum) #Appending integers to list.\n",
    "print(List)"
   ]
  },
  {
   "cell_type": "markdown",
   "metadata": {},
   "source": [
    "# Problem 3"
   ]
  },
  {
   "cell_type": "markdown",
   "metadata": {},
   "source": [
    "Write list comprehensions which produce the specified list. Each list comprehension should fit on one line and be no longer than 80 characters. "
   ]
  },
  {
   "cell_type": "code",
   "execution_count": 1,
   "metadata": {},
   "outputs": [],
   "source": [
    "                                                                      # 80 characters"
   ]
  },
  {
   "cell_type": "markdown",
   "metadata": {},
   "source": [
    "## (a) \n",
    "\n",
    "A list of the first 10 [triangular numbers](https://en.wikipedia.org/wiki/Triangular_number). The $i$th triangular number is the sum of the integers up to and including $i$. For example, the sixth triangular number is \n",
    "\n",
    "$$1+2+3+4+5+6 = 21\\;.$$\n",
    "\n",
    "The first element in your list should be 1, and the last one should be 55. \n",
    "\n",
    "### Solution"
   ]
  },
  {
   "cell_type": "markdown",
   "metadata": {},
   "source": [
    "The code below was a little confusing at first, but after realizing that the numbers above form an arithmetic series, it was easy to create a list comprehension. The formula for series is Sn = (2a + (n-1)d)n/2 where a is the first term, n is the position of some term and d is the difference between two consecutive terms. As a result, I found the sum of n terms to be n(n+1)/2 for n >= 1.This led to the following comprehension."
   ]
  },
  {
   "cell_type": "code",
   "execution_count": 3,
   "metadata": {},
   "outputs": [
    {
     "data": {
      "text/plain": [
       "[1, 3, 6, 10, 15, 21, 28, 36, 45, 55]"
      ]
     },
     "execution_count": 3,
     "metadata": {},
     "output_type": "execute_result"
    }
   ],
   "source": [
    "T = [int((i*(i+1))/2) for i in range (1, 11)]"
   ]
  },
  {
   "cell_type": "markdown",
   "metadata": {},
   "source": [
    "## (b)\n",
    "\n",
    "A list of the letters in a predefined string `s`, **except for vowels.** For example: \n",
    "\n",
    "```python\n",
    "s = \"make it so, number one\"\n",
    "# your code here\n",
    "# ...\n",
    "L\n",
    "# output\n",
    "[\"m\", \"k\", \"t\", \"s\", \"n\", \"m\", \"b\", \"r\", \"n\"]\n",
    "```\n",
    "You should also exclude spaces. It is ok to include punctuation.  \n",
    "\n",
    "*Hint:* Consider the following code: \n",
    "\n",
    "```python\n",
    "l = \"a\"\n",
    "l not in [\"e\", \"w\"]\n",
    "```\n",
    "\n",
    "### Solution"
   ]
  },
  {
   "cell_type": "markdown",
   "metadata": {},
   "source": [
    "This problem was easy to figure out however, the character limit was the issue. Initially, my code was:\n",
    "V = [s[i] for i in range(len(s)) if s[i] not in [\"a\", \"e\", \"i\", \"o\", \"u\", \" \"]]\n",
    "Indeed, this seemed to work but was just shy of 80 characters. A little research revealed that \"aeiou \" was equivalent here and thus, here is my solution.\n",
    "Note: The code output below was found after including the sample input from above! In this case, I used s as it is intialized in the problem. Further, the output of was found by using the print(V) command."
   ]
  },
  {
   "cell_type": "code",
   "execution_count": 5,
   "metadata": {},
   "outputs": [
    {
     "data": {
      "text/plain": [
       "['m', 'k', 't', 's', ',', 'n', 'm', 'b', 'r', 'n']"
      ]
     },
     "execution_count": 5,
     "metadata": {},
     "output_type": "execute_result"
    }
   ],
   "source": [
    "V = [s[i] for i in range(len(s)) if s[i] not in \"aeiou \"]"
   ]
  },
  {
   "cell_type": "markdown",
   "metadata": {},
   "source": [
    "## (c)\n",
    "\n",
    "A list `L` whose elements are themselves lists. The `i`th element of `L` contains the powers of `X[i]` from `0` to `k`, where `X` is a list and `k` an integer that can be specified by the user. \n",
    "For example, \n",
    "\n",
    "```python\n",
    "X = [5, 6, 7]\n",
    "k = 2\n",
    "# your code here\n",
    "# ... \n",
    "L\n",
    "# output\n",
    "[[1, 5, 25], [1, 6, 36], [1, 7, 49]]\n",
    "```\n",
    "\n",
    "### Solution"
   ]
  },
  {
   "cell_type": "markdown",
   "metadata": {},
   "source": [
    "The code here follows from something we did in class. The difference however, involves using a predefined list and integer and finding the power. To understand this, I first created a (non-list-comprehension) for loop and wrote code accordingly. Once I was sure, I compressed it into the list comprehension below.\n",
    "Note: The code output below was found after including the sample input from above! In this case, I used X and k as they were when initialized in the problem. Further, the output of was found by using the print(P) command.\n",
    "Also, this loop goes from 0 to k-1 as was allowed by the professor."
   ]
  },
  {
   "cell_type": "code",
   "execution_count": 17,
   "metadata": {},
   "outputs": [
    {
     "data": {
      "text/plain": [
       "[[1, 5], [1, 6], [1, 7]]"
      ]
     },
     "execution_count": 17,
     "metadata": {},
     "output_type": "execute_result"
    }
   ],
   "source": [
    "P = [[X[i]**k for k in range(k)] for i in range(len(X))]"
   ]
  },
  {
   "cell_type": "markdown",
   "metadata": {},
   "source": [
    "## (d)\n",
    "\n",
    "\n",
    "As in **(c)**, but now include only even powers of `X`. For example, \n",
    "\n",
    "```python\n",
    "X = [5, 6, 7]\n",
    "k = 8\n",
    "# your code here\n",
    "# ...\n",
    "L\n",
    "# output\n",
    "[[1, 25, 625, 15625, 390625],\n",
    " [1, 36, 1296, 46656, 1679616],\n",
    " [1, 49, 2401, 117649, 5764801]]\n",
    "```\n",
    "\n",
    "### Solution"
   ]
  },
  {
   "cell_type": "markdown",
   "metadata": {},
   "source": [
    "This problem's solutions follows from the previous one, with a few changes. Since only even powers were needed, I included an if statement to check whether the integer k was even or not, and only calculated the power when it was even.\n",
    "Note: The code output below was found after including the sample input from above! Again, I used X and k as they were when initialized in the problem. Further, the output of was found by using the print(H) command.\n",
    "Also, this loop goes from 0 to k-1 as was allowed by the professor."
   ]
  },
  {
   "cell_type": "code",
   "execution_count": 22,
   "metadata": {},
   "outputs": [
    {
     "data": {
      "text/plain": [
       "[[1, 25, 625, 15625], [1, 36, 1296, 46656], [1, 49, 2401, 117649]]"
      ]
     },
     "execution_count": 22,
     "metadata": {},
     "output_type": "execute_result"
    }
   ],
   "source": [
    "H = [[X[i]**k for k in range(k) if k % 2 == 0] for i in range(len(X))]"
   ]
  },
  {
   "cell_type": "markdown",
   "metadata": {},
   "source": [
    "# Problem 4\n",
    "\n",
    "In this problem, we'll simulate the *simple random walk*, perhaps the most important discrete-time stochastic process. Random walks are commonly used to model phenomena in physics and chemistry, biology, and finance. In the simple random walk, at each timestep we flip a fair coin. If heads, we move foward one step; if tails, we move backwards. Let \"forwards\" be represented by positive integers, and \"backwards\" be represented by negative integers. For example, if we are currently three steps backwards from the starting point, our position is `-3`. \n",
    "\n",
    "Write code to simulate a random walk. Your code should: \n",
    "\n",
    "- Specify an upper and lower bound -- once the walk reaches one of these two numbers, the process terminates. \n",
    "- Keep a log of the results of the coin flips. \n",
    "- Keep a log of the position of the walk at each time step. \n",
    "- When the walk reaches the upper or lower bound, print a message and terminate the walk. \n",
    "\n",
    "To simulate a coin flip, run the following code once: \n",
    "\n",
    "```python \n",
    "import random\n",
    "```\n",
    "\n",
    "Then, you can let `x` be the value of a fairly flipped coin by writing:\n",
    "\n",
    "```python\n",
    "x = random.choice([1,-1])\n",
    "```\n",
    "\n",
    "In this case, code such as `position += x` will correctly change the position according to the result of the coin flip. \n",
    "\n",
    "**Your code should include at least one instance of an `elif` statement and at least one instance of a `break` statement**. \n",
    "\n",
    "## Example Output\n",
    "\n",
    "\n",
    "```python\n",
    "import random\n",
    "\n",
    "upper_bound = 3\n",
    "lower_bound = -3\n",
    "\n",
    "# your code here\n",
    "# ...\n",
    "\n",
    "# message\n",
    "Upper bound at 3 reached\n",
    "\n",
    "positions # this is the list storing the history of the walk\n",
    "# output\n",
    "[1, 2, 1, 2, 1, 0, 1, 2, 3]\n",
    "```\n",
    "\n",
    "Finally, you might be interested in visualizing the walk. After your main code, run the following two lines to produce a plot. When the bounds are set very large, the resulting visualization can be quite intriguing and attractive. The visualization shows an example with upper and lower bounds at -500 and 500, respectively. "
   ]
  },
  {
   "cell_type": "code",
   "execution_count": 78,
   "metadata": {},
   "outputs": [
    {
     "data": {
      "text/plain": [
       "[<matplotlib.lines.Line2D at 0x7fe7b4df30f0>]"
      ]
     },
     "execution_count": 78,
     "metadata": {},
     "output_type": "execute_result"
    },
    {
     "data": {
      "image/png": "[encoded data removed]",
      "text/plain": [
       "<Figure size 432x288 with 1 Axes>"
      ]
     },
     "metadata": {
      "needs_background": "light"
     },
     "output_type": "display_data"
    }
   ],
   "source": [
    "from matplotlib import pyplot as plt\n",
    "plt.plot(positions)"
   ]
  },
  {
   "cell_type": "markdown",
   "metadata": {},
   "source": [
    "## Solution"
   ]
  },
  {
   "cell_type": "markdown",
   "metadata": {},
   "source": [
    "For this problem, I followed the ideas used in monte-carlo simulations. As per the requirements, I used import random as seen below. Then, I initialized the necessary variables: the upper bound, lower bound, a(n empty) list to check the flips, a(n empty) list to check the positions, and the specific position initialized to 0 (i.e. the origin). To simulate the flips, I used a while loop; since a break statement was required, a while loop seemed most appropriate. To generate a random integer based on the coin flip, I used the \"random.choice()\" code as given in the problem above. Then, I appended the resulting coin flip value to the empty list for flips. After this, I added the value of the random integer to the position, thereby starting the random walk. I appended this position to the empty list of positions to keep a log of moved positions. To check if the upper bound or lower bound had been breached, I used an if-elif statement to check the if the position was equal to the upper or lower bound and to break if it was. The lists containing a log of flips and positions respectively were printed out for viewing. Lastly, the matplotlib module given above was inserted to give a visual representation of the random walk, as shown below:"
   ]
  },
  {
   "cell_type": "code",
   "execution_count": 24,
   "metadata": {},
   "outputs": [
    {
     "name": "stdout",
     "output_type": "stream",
     "text": [
      "Upper bound at  10  reached!\n",
      "[1, 1, -1, 1, -1, 1, 1, -1, -1, 1, 1, 1, -1, -1, -1, 1, 1, 1, 1, -1, -1, 1, 1, -1, 1, -1, 1, -1, 1, 1, 1, 1, -1, -1, -1, 1, -1, -1, 1, -1, -1, 1, 1, -1, 1, -1, -1, -1, -1, -1, 1, 1, 1, 1, -1, 1, 1, 1, -1, 1, 1, 1, 1, -1, -1, 1, -1, 1, 1, 1]\n",
      "[1, 2, 1, 2, 1, 2, 3, 2, 1, 2, 3, 4, 3, 2, 1, 2, 3, 4, 5, 4, 3, 4, 5, 4, 5, 4, 5, 4, 5, 6, 7, 8, 7, 6, 5, 6, 5, 4, 5, 4, 3, 4, 5, 4, 5, 4, 3, 2, 1, 0, 1, 2, 3, 4, 3, 4, 5, 6, 5, 6, 7, 8, 9, 8, 7, 8, 7, 8, 9, 10]\n"
     ]
    },
    {
     "data": {
      "text/plain": [
       "[<matplotlib.lines.Line2D at 0x2c2f1591490>]"
      ]
     },
     "execution_count": 24,
     "metadata": {},
     "output_type": "execute_result"
    },
    {
     "data": {
      "image/png": "[encoded data removed]",
      "text/plain": [
       "<Figure size 432x288 with 1 Axes>"
      ]
     },
     "metadata": {
      "needs_background": "light"
     },
     "output_type": "display_data"
    }
   ],
   "source": [
    "#Problem 4\n",
    "import random\n",
    "\n",
    "#Initializing variables\n",
    "upper_bound = 10\n",
    "lower_bound = -10\n",
    "fliplog = []\n",
    "positionlog = []\n",
    "position = 0\n",
    "\n",
    "#While loop for simulation\n",
    "while True:\n",
    "    x = random.choice([1, -1])\n",
    "    fliplog.append(x)\n",
    "    position += x\n",
    "    positionlog.append(position)\n",
    "    #Checking bounds\n",
    "    if (position == upper_bound):\n",
    "        print(\"Upper bound at \", upper_bound, \" reached!\")\n",
    "        break\n",
    "    elif (position == lower_bound):\n",
    "        print(\"Lower bound at \", lower_bound, \" reached!\")\n",
    "        break\n",
    "\n",
    "#Log of flips\n",
    "print(fliplog)\n",
    "#Log of position\n",
    "print(positionlog)\n",
    "\n",
    "#Visualization\n",
    "from matplotlib import pyplot as plt\n",
    "plt.plot(positionlog)"
   ]
  }
 ],
 "metadata": {
  "kernelspec": {
   "display_name": "Python 3",
   "language": "python",
   "name": "python3"
  },
  "language_info": {
   "codemirror_mode": {
    "name": "ipython",
    "version": 3
   },
   "file_extension": ".py",
   "mimetype": "text/x-python",
   "name": "python",
   "nbconvert_exporter": "python",
   "pygments_lexer": "ipython3",
   "version": "3.8.3"
  }
 },
 "nbformat": 4,
 "nbformat_minor": 4
}
